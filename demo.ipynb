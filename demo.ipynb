{
 "cells": [
  {
   "cell_type": "markdown",
   "metadata": {},
   "source": [
    "!pip install -U openmim\n",
    "!mim install mmcv-full==1.2.6\n",
    "!pip install timm==0.4.12\n",
    "\n",
    "https://github.com/open-mmlab/mmocr/issues/325#issuecomment-867719744\n",
    "\n",
    "https://github.com/qubvel/segmentation_models.pytorch/issues/424#issuecomment-1018189215"
   ]
  },
  {
   "cell_type": "code",
   "execution_count": 1,
   "metadata": {},
   "outputs": [],
   "source": [
    "from mmseg.apis import init_segmentor, inference_segmentor, show_result_pyplot\n",
    "from mmseg.core.evaluation import get_palette"
   ]
  },
  {
   "cell_type": "code",
   "execution_count": 2,
   "metadata": {},
   "outputs": [],
   "source": [
    "config_file = './checkpoints/SETR_Naive_ReLeM/SETR_Naive_768x768_80k_base.py'\n",
    "checkpoint_file = './checkpoints/SETR_Naive_ReLeM/iter_80000.pth'"
   ]
  },
  {
   "cell_type": "code",
   "execution_count": 3,
   "metadata": {},
   "outputs": [
    {
     "ename": "FileNotFoundError",
     "evalue": "file \"/home/u/FoodSeg103-Benchmark-v1/checkpoints/SETR_Naive_ReLeM/SETR_Naive_768x768_80k_base.py\" does not exist",
     "output_type": "error",
     "traceback": [
      "\u001b[0;31m---------------------------------------------------------------------------\u001b[0m",
      "\u001b[0;31mFileNotFoundError\u001b[0m                         Traceback (most recent call last)",
      "\u001b[1;32m/home/u/FoodSeg103-Benchmark-v1/demo.ipynb Cell 4\u001b[0m in \u001b[0;36m<cell line: 2>\u001b[0;34m()\u001b[0m\n\u001b[1;32m      <a href='vscode-notebook-cell://ssh-remote%2Bbbb/home/u/FoodSeg103-Benchmark-v1/demo.ipynb#W3sdnNjb2RlLXJlbW90ZQ%3D%3D?line=0'>1</a>\u001b[0m \u001b[39m# build the model from a config file and a checkpoint file\u001b[39;00m\n\u001b[0;32m----> <a href='vscode-notebook-cell://ssh-remote%2Bbbb/home/u/FoodSeg103-Benchmark-v1/demo.ipynb#W3sdnNjb2RlLXJlbW90ZQ%3D%3D?line=1'>2</a>\u001b[0m model \u001b[39m=\u001b[39m init_segmentor(config_file, checkpoint_file, device\u001b[39m=\u001b[39;49m\u001b[39m'\u001b[39;49m\u001b[39mcuda:0\u001b[39;49m\u001b[39m'\u001b[39;49m)\n",
      "File \u001b[0;32m~/FoodSeg103-Benchmark-v1/mmseg/apis/inference.py:25\u001b[0m, in \u001b[0;36minit_segmentor\u001b[0;34m(config, checkpoint, device)\u001b[0m\n\u001b[1;32m     12\u001b[0m \u001b[39m\"\"\"Initialize a segmentor from config file.\u001b[39;00m\n\u001b[1;32m     13\u001b[0m \n\u001b[1;32m     14\u001b[0m \u001b[39mArgs:\u001b[39;00m\n\u001b[0;32m   (...)\u001b[0m\n\u001b[1;32m     22\u001b[0m \u001b[39m    nn.Module: The constructed segmentor.\u001b[39;00m\n\u001b[1;32m     23\u001b[0m \u001b[39m\"\"\"\u001b[39;00m\n\u001b[1;32m     24\u001b[0m \u001b[39mif\u001b[39;00m \u001b[39misinstance\u001b[39m(config, \u001b[39mstr\u001b[39m):\n\u001b[0;32m---> 25\u001b[0m     config \u001b[39m=\u001b[39m mmcv\u001b[39m.\u001b[39;49mConfig\u001b[39m.\u001b[39;49mfromfile(config)\n\u001b[1;32m     26\u001b[0m \u001b[39melif\u001b[39;00m \u001b[39mnot\u001b[39;00m \u001b[39misinstance\u001b[39m(config, mmcv\u001b[39m.\u001b[39mConfig):\n\u001b[1;32m     27\u001b[0m     \u001b[39mraise\u001b[39;00m \u001b[39mTypeError\u001b[39;00m(\u001b[39m'\u001b[39m\u001b[39mconfig must be a filename or Config object, \u001b[39m\u001b[39m'\u001b[39m\n\u001b[1;32m     28\u001b[0m                     \u001b[39m'\u001b[39m\u001b[39mbut got \u001b[39m\u001b[39m{}\u001b[39;00m\u001b[39m'\u001b[39m\u001b[39m.\u001b[39mformat(\u001b[39mtype\u001b[39m(config)))\n",
      "File \u001b[0;32m~/.anaconda/envs/f3/lib/python3.9/site-packages/mmcv/utils/config.py:250\u001b[0m, in \u001b[0;36mConfig.fromfile\u001b[0;34m(filename, use_predefined_variables, import_custom_modules)\u001b[0m\n\u001b[1;32m    246\u001b[0m \u001b[39m@staticmethod\u001b[39m\n\u001b[1;32m    247\u001b[0m \u001b[39mdef\u001b[39;00m \u001b[39mfromfile\u001b[39m(filename,\n\u001b[1;32m    248\u001b[0m              use_predefined_variables\u001b[39m=\u001b[39m\u001b[39mTrue\u001b[39;00m,\n\u001b[1;32m    249\u001b[0m              import_custom_modules\u001b[39m=\u001b[39m\u001b[39mTrue\u001b[39;00m):\n\u001b[0;32m--> 250\u001b[0m     cfg_dict, cfg_text \u001b[39m=\u001b[39m Config\u001b[39m.\u001b[39;49m_file2dict(filename,\n\u001b[1;32m    251\u001b[0m                                            use_predefined_variables)\n\u001b[1;32m    252\u001b[0m     \u001b[39mif\u001b[39;00m import_custom_modules \u001b[39mand\u001b[39;00m cfg_dict\u001b[39m.\u001b[39mget(\u001b[39m'\u001b[39m\u001b[39mcustom_imports\u001b[39m\u001b[39m'\u001b[39m, \u001b[39mNone\u001b[39;00m):\n\u001b[1;32m    253\u001b[0m         import_modules_from_strings(\u001b[39m*\u001b[39m\u001b[39m*\u001b[39mcfg_dict[\u001b[39m'\u001b[39m\u001b[39mcustom_imports\u001b[39m\u001b[39m'\u001b[39m])\n",
      "File \u001b[0;32m~/.anaconda/envs/f3/lib/python3.9/site-packages/mmcv/utils/config.py:123\u001b[0m, in \u001b[0;36mConfig._file2dict\u001b[0;34m(filename, use_predefined_variables)\u001b[0m\n\u001b[1;32m    120\u001b[0m \u001b[39m@staticmethod\u001b[39m\n\u001b[1;32m    121\u001b[0m \u001b[39mdef\u001b[39;00m \u001b[39m_file2dict\u001b[39m(filename, use_predefined_variables\u001b[39m=\u001b[39m\u001b[39mTrue\u001b[39;00m):\n\u001b[1;32m    122\u001b[0m     filename \u001b[39m=\u001b[39m osp\u001b[39m.\u001b[39mabspath(osp\u001b[39m.\u001b[39mexpanduser(filename))\n\u001b[0;32m--> 123\u001b[0m     check_file_exist(filename)\n\u001b[1;32m    124\u001b[0m     fileExtname \u001b[39m=\u001b[39m osp\u001b[39m.\u001b[39msplitext(filename)[\u001b[39m1\u001b[39m]\n\u001b[1;32m    125\u001b[0m     \u001b[39mif\u001b[39;00m fileExtname \u001b[39mnot\u001b[39;00m \u001b[39min\u001b[39;00m [\u001b[39m'\u001b[39m\u001b[39m.py\u001b[39m\u001b[39m'\u001b[39m, \u001b[39m'\u001b[39m\u001b[39m.json\u001b[39m\u001b[39m'\u001b[39m, \u001b[39m'\u001b[39m\u001b[39m.yaml\u001b[39m\u001b[39m'\u001b[39m, \u001b[39m'\u001b[39m\u001b[39m.yml\u001b[39m\u001b[39m'\u001b[39m]:\n",
      "File \u001b[0;32m~/.anaconda/envs/f3/lib/python3.9/site-packages/mmcv/utils/path.py:23\u001b[0m, in \u001b[0;36mcheck_file_exist\u001b[0;34m(filename, msg_tmpl)\u001b[0m\n\u001b[1;32m     21\u001b[0m \u001b[39mdef\u001b[39;00m \u001b[39mcheck_file_exist\u001b[39m(filename, msg_tmpl\u001b[39m=\u001b[39m\u001b[39m'\u001b[39m\u001b[39mfile \u001b[39m\u001b[39m\"\u001b[39m\u001b[39m{}\u001b[39;00m\u001b[39m\"\u001b[39m\u001b[39m does not exist\u001b[39m\u001b[39m'\u001b[39m):\n\u001b[1;32m     22\u001b[0m     \u001b[39mif\u001b[39;00m \u001b[39mnot\u001b[39;00m osp\u001b[39m.\u001b[39misfile(filename):\n\u001b[0;32m---> 23\u001b[0m         \u001b[39mraise\u001b[39;00m \u001b[39mFileNotFoundError\u001b[39;00m(msg_tmpl\u001b[39m.\u001b[39mformat(filename))\n",
      "\u001b[0;31mFileNotFoundError\u001b[0m: file \"/home/u/FoodSeg103-Benchmark-v1/checkpoints/SETR_Naive_ReLeM/SETR_Naive_768x768_80k_base.py\" does not exist"
     ]
    }
   ],
   "source": [
    "# build the model from a config file and a checkpoint file\n",
    "model = init_segmentor(config_file, checkpoint_file, device='cuda:0')"
   ]
  },
  {
   "cell_type": "code",
   "execution_count": null,
   "metadata": {},
   "outputs": [],
   "source": [
    "# test a single image\n",
    "img = 'demo.jpg'\n",
    "result = inference_segmentor(model, img)"
   ]
  },
  {
   "cell_type": "code",
   "execution_count": null,
   "metadata": {},
   "outputs": [],
   "source": [
    "show_result_pyplot(model, img, result, )"
   ]
  },
  {
   "cell_type": "code",
   "execution_count": null,
   "metadata": {},
   "outputs": [],
   "source": [
    "# test a single image\n",
    "img = 'demo2.jpg'\n",
    "result = inference_segmentor(model, img)\n",
    "show_result_pyplot(model, img, result, )"
   ]
  }
 ],
 "metadata": {
  "kernelspec": {
   "display_name": "Python 3.9.12 ('f3')",
   "language": "python",
   "name": "python3"
  },
  "language_info": {
   "codemirror_mode": {
    "name": "ipython",
    "version": 3
   },
   "file_extension": ".py",
   "mimetype": "text/x-python",
   "name": "python",
   "nbconvert_exporter": "python",
   "pygments_lexer": "ipython3",
   "version": "3.9.12"
  },
  "orig_nbformat": 4,
  "vscode": {
   "interpreter": {
    "hash": "32806f8336ff202847655cffb4e58ba25b815c083804a8b88f74f5954577c593"
   }
  }
 },
 "nbformat": 4,
 "nbformat_minor": 2
}
